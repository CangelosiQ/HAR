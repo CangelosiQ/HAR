{
 "cells": [
  {
   "cell_type": "code",
   "execution_count": 1,
   "metadata": {},
   "outputs": [
    {
     "ename": "SyntaxError",
     "evalue": "invalid syntax (Annex.py, line 279)",
     "output_type": "error",
     "traceback": [
      "Traceback \u001b[1;36m(most recent call last)\u001b[0m:\n",
      "  File \u001b[0;32m\"C:\\Program Files\\Anaconda3\\lib\\site-packages\\IPython\\core\\interactiveshell.py\"\u001b[0m, line \u001b[0;32m2862\u001b[0m, in \u001b[0;35mrun_code\u001b[0m\n    exec(code_obj, self.user_global_ns, self.user_ns)\n",
      "\u001b[1;36m  File \u001b[1;32m\"<ipython-input-1-b72ae62c32ca>\"\u001b[1;36m, line \u001b[1;32m15\u001b[1;36m, in \u001b[1;35m<module>\u001b[1;36m\u001b[0m\n\u001b[1;33m    import Annex\u001b[0m\n",
      "\u001b[1;36m  File \u001b[1;32m\"C:\\Users\\Quentin\\Documents\\INSA\\5GMM\\HAR\\Annex.py\"\u001b[1;36m, line \u001b[1;32m279\u001b[0m\n\u001b[1;33m    ts = time.time()cop=copy.copy(Resultats)\u001b[0m\n\u001b[1;37m                      ^\u001b[0m\n\u001b[1;31mSyntaxError\u001b[0m\u001b[1;31m:\u001b[0m invalid syntax\n"
     ]
    }
   ],
   "source": [
    "import numpy as np\n",
    "import pandas as pd\n",
    "import matplotlib.pyplot as plt\n",
    "import time\n",
    "from sklearn.preprocessing import StandardScaler\n",
    "from sklearn.svm import SVC, LinearSVC\n",
    "from sklearn.discriminant_analysis import LinearDiscriminantAnalysis, QuadraticDiscriminantAnalysis\n",
    "from sklearn.ensemble import RandomForestClassifier, AdaBoostClassifier, GradientBoostingClassifier\n",
    "from sklearn.metrics import confusion_matrix\n",
    "from sklearn.neighbors import KNeighborsClassifier\n",
    "from sklearn.linear_model import LogisticRegression\n",
    "from xgboost import XGBClassifier\n",
    "import pickle\n",
    "import os\n",
    "import Annex "
   ]
  },
  {
   "cell_type": "code",
   "execution_count": null,
   "metadata": {},
   "outputs": [],
   "source": [
    "import imp\n",
    "imp.reload(Annex)"
   ]
  },
  {
   "cell_type": "code",
   "execution_count": 3,
   "metadata": {},
   "outputs": [
    {
     "name": "stdout",
     "output_type": "stream",
     "text": [
      "Welcome, I am Sammy Nimizz.\n",
      "May I help you?\n"
     ]
    }
   ],
   "source": [
    "Xtrain=pd.read_table(\"X_train.txt\",sep='\\s+',header=None)\n",
    "ytrain=pd.read_table(\"y_train.txt\",sep='\\s+',header=None,names=('y'))\n",
    "Xtest=pd.read_table(\"X_test.txt\",sep='\\s+',header=None)\n",
    "ytest=pd.read_table(\"y_test.txt\",sep='\\s+',header=None,names=('y'))\n",
    "ytrain=ytrain[\"y\"]\n",
    "ytest=ytest[\"y\"]\n",
    "LABELS = [\"WALKING\",\"WALKING UPSTAIRS\",\"WALKING DOWNSTAIRS\",\"SITTING\",\"STANDING\",\"LAYING\"]\n",
    "\n",
    "scaler=StandardScaler()\n",
    "scaler.fit(Xtrain)\n",
    "Xtrain=scaler.transform(Xtrain)\n",
    "Xtest=scaler.transform(Xtest)\n",
    "\n",
    "path='./results/Resultats.pickle'\n",
    "if os.path.exists(path):\n",
    "    Resultats=pickle.load(open(path, 'rb'))\n",
    "else:\n",
    "    Resultats=Annex.Results()\n",
    "Resultats=Annex.Results()\n",
    "Resultats.say_hello()"
   ]
  },
  {
   "cell_type": "markdown",
   "metadata": {},
   "source": [
    "# Optimisation"
   ]
  },
  {
   "cell_type": "code",
   "execution_count": 15,
   "metadata": {},
   "outputs": [
    {
     "data": {
      "text/plain": [
       "numpy.int64"
      ]
     },
     "execution_count": 15,
     "metadata": {},
     "output_type": "execute_result"
    }
   ],
   "source": [
    "type(ytrain[0])"
   ]
  },
  {
   "cell_type": "code",
   "execution_count": 4,
   "metadata": {
    "scrolled": false
   },
   "outputs": [
    {
     "name": "stdout",
     "output_type": "stream",
     "text": [
      "I want to improve myself!\n",
      "I am too young to be optimized, let me try some randomness first.\n",
      "Running SVC with parameters: {'tol': 0.001, 'shrinking': False, 'probability': False, 'kernel': 'precomputed', 'gamma': 'auto', 'degree': 7, 'coef0': 0.0, 'class_weight': None, 'cache_size': 200, 'C': 25.825000000000003}\n",
      "An error occured with this configuration. <class 'ValueError'>\n",
      "Running SVC with parameters: {'tol': 0.001, 'shrinking': True, 'probability': False, 'kernel': 'linear', 'gamma': 'auto', 'degree': 4, 'coef0': 0.0, 'class_weight': None, 'cache_size': 200, 'C': 0.80000000000000004}\n",
      "Score: 9.469e-01\n",
      "\n",
      "Running SVC with parameters: {'tol': 0.001, 'shrinking': False, 'probability': False, 'kernel': 'linear', 'gamma': 'auto', 'degree': 5, 'coef0': 0.0, 'class_weight': None, 'cache_size': 200, 'C': 0.40000000000000002}\n",
      "Score: 9.481e-01\n",
      "\n",
      "Running SVC with parameters: {'tol': 0.001, 'shrinking': False, 'probability': False, 'kernel': 'linear', 'gamma': 'auto', 'degree': 9, 'coef0': 0.0, 'class_weight': None, 'cache_size': 200, 'C': 65.384999999999991}\n",
      "Score: 9.460e-01\n",
      "\n",
      "Running SVC with parameters: {'tol': 0.001, 'shrinking': True, 'probability': False, 'kernel': 'rbf', 'gamma': 'auto', 'degree': 8, 'coef0': 0.0, 'class_weight': None, 'cache_size': 200, 'C': 70.329999999999998}\n",
      "Score: 9.435e-01\n",
      "\n",
      "Running SVC with parameters: {'tol': 0.001, 'shrinking': False, 'probability': False, 'kernel': 'precomputed', 'gamma': 'auto', 'degree': 8, 'coef0': 0.0, 'class_weight': None, 'cache_size': 200, 'C': 0.050000000000000003}\n",
      "An error occured with this configuration. <class 'ValueError'>\n",
      "Running SVC with parameters: {'tol': 0.001, 'shrinking': False, 'probability': False, 'kernel': 'poly', 'gamma': 'auto', 'degree': 10, 'coef0': 0.0, 'class_weight': None, 'cache_size': 200, 'C': 80.219999999999999}\n",
      "Score: 6.844e-01\n",
      "\n",
      "Running SVC with parameters: {'tol': 0.001, 'shrinking': False, 'probability': False, 'kernel': 'linear', 'gamma': 'auto', 'degree': 9, 'coef0': 0.0, 'class_weight': None, 'cache_size': 200, 'C': 0.70000000000000007}\n",
      "Score: 9.473e-01\n",
      "\n",
      "Running SVC with parameters: {'tol': 0.001, 'shrinking': True, 'probability': False, 'kernel': 'rbf', 'gamma': 'auto', 'degree': 5, 'coef0': 0.0, 'class_weight': None, 'cache_size': 200, 'C': 45.605000000000004}\n",
      "Score: 9.432e-01\n",
      "\n",
      "Running SVC with parameters: {'tol': 0.001, 'shrinking': True, 'probability': False, 'kernel': 'sigmoid', 'gamma': 'auto', 'degree': 6, 'coef0': 0.0, 'class_weight': None, 'cache_size': 200, 'C': 1.1000000000000001}\n",
      "Score: 8.074e-01\n",
      "\n",
      "\n",
      "Epoch 1\n",
      "I selected the 2 best solutions I know.\n",
      "<class 'int'>\n",
      "Mutation!\n",
      "Evaluation...\n",
      "Running SVC with parameters: {'tol': 0.001, 'shrinking': True, 'probability': False, 'kernel': 'linear', 'gamma': 'auto', 'degree': 4, 'coef0': 0.0, 'class_weight': None, 'cache_size': 200, 'C': 0.80000000000000004}\n",
      "Score: 9.469e-01\n",
      "\n",
      "Running SVC with parameters: {'tol': 0.001, 'shrinking': False, 'probability': False, 'kernel': 'linear', 'gamma': 'auto', 'degree': 5, 'coef0': 0.0, 'class_weight': None, 'cache_size': 200, 'C': 0.40000000000000002}\n",
      "Score: 9.481e-01\n",
      "\n",
      "\n",
      "Epoch 2\n",
      "I selected the 2 best solutions I know.\n",
      "<class 'int'>\n",
      "Mutation!\n",
      "Evaluation...\n",
      "Running SVC with parameters: {'tol': 0.001, 'shrinking': True, 'probability': False, 'kernel': 'linear', 'gamma': 'auto', 'degree': 4, 'coef0': 0.0, 'class_weight': None, 'cache_size': 200, 'C': 0.80000000000000004}\n",
      "Score: 9.469e-01\n",
      "\n",
      "Running SVC with parameters: {'tol': 0.001, 'shrinking': False, 'probability': False, 'kernel': 'linear', 'gamma': 'auto', 'degree': 5, 'coef0': 0.0, 'class_weight': None, 'cache_size': 200, 'C': 0.40000000000000002}\n",
      "Score: 9.481e-01\n",
      "\n"
     ]
    }
   ],
   "source": [
    "Resultats.optimize(Xtrain,ytrain,nb_epoch=2,method=SVC,goal='max',coef_selection=0.2)\n",
    "f=open('./results/Resultats.pickle', 'wb')\n",
    "pickle.dump(Resultats,f)\n",
    "f.close()"
   ]
  },
  {
   "cell_type": "code",
   "execution_count": 7,
   "metadata": {
    "scrolled": true
   },
   "outputs": [
    {
     "name": "stdout",
     "output_type": "stream",
     "text": [
      "Running SVC with parameters: {'tol': 0.001, 'shrinking': True, 'probability': False, 'kernel': 'poly', 'gamma': 'auto', 'degree': 8, 'coef0': 0.0, 'class_weight': None, 'cache_size': 200, 'C': 0.10000000000000001}\n",
      "Score: 3.856e-01\n",
      "\n",
      "Running SVC with parameters: {'tol': 0.001, 'shrinking': True, 'probability': False, 'kernel': 'rbf', 'gamma': 'auto', 'degree': 5, 'coef0': 0.0, 'class_weight': None, 'cache_size': 200, 'C': 6.0449999999999999}\n",
      "Score: 9.435e-01\n",
      "\n",
      "Running SVC with parameters: {'tol': 0.001, 'shrinking': False, 'probability': False, 'kernel': 'poly', 'gamma': 'auto', 'degree': 7, 'coef0': 0.0, 'class_weight': None, 'cache_size': 200, 'C': 0.20000000000000001}\n",
      "Score: 5.031e-01\n",
      "\n",
      "Running SVC with parameters: {'tol': 0.001, 'shrinking': False, 'probability': False, 'kernel': 'linear', 'gamma': 'auto', 'degree': 9, 'coef0': 0.0, 'class_weight': None, 'cache_size': 200, 'C': 25.825000000000003}\n",
      "Score: 9.460e-01\n",
      "\n",
      "Running SVC with parameters: {'tol': 0.001, 'shrinking': True, 'probability': False, 'kernel': 'sigmoid', 'gamma': 'auto', 'degree': 5, 'coef0': 0.0, 'class_weight': None, 'cache_size': 200, 'C': 0.35000000000000003}\n",
      "Score: 8.198e-01\n",
      "\n",
      "Running SVC with parameters: {'tol': 0.001, 'shrinking': True, 'probability': False, 'kernel': 'linear', 'gamma': 'auto', 'degree': 6, 'coef0': 0.0, 'class_weight': None, 'cache_size': 200, 'C': 65.384999999999991}\n",
      "Score: 9.460e-01\n",
      "\n",
      "Running SVC with parameters: {'tol': 0.001, 'shrinking': False, 'probability': False, 'kernel': 'rbf', 'gamma': 'auto', 'degree': 4, 'coef0': 0.0, 'class_weight': None, 'cache_size': 200, 'C': 0.10000000000000001}\n",
      "Score: 8.990e-01\n",
      "\n",
      "Running SVC with parameters: {'tol': 0.001, 'shrinking': False, 'probability': False, 'kernel': 'rbf', 'gamma': 'auto', 'degree': 10, 'coef0': 0.0, 'class_weight': None, 'cache_size': 200, 'C': 0.20000000000000001}\n",
      "Score: 9.180e-01\n",
      "\n",
      "Running SVC with parameters: {'tol': 0.001, 'shrinking': False, 'probability': False, 'kernel': 'linear', 'gamma': 'auto', 'degree': 7, 'coef0': 0.0, 'class_weight': None, 'cache_size': 200, 'C': 95.055000000000007}\n",
      "Score: 9.460e-01\n",
      "\n",
      "Running SVC with parameters: {'tol': 0.001, 'shrinking': True, 'probability': False, 'kernel': 'precomputed', 'gamma': 'auto', 'degree': 10, 'coef0': 0.0, 'class_weight': None, 'cache_size': 200, 'C': 0.0}\n",
      "An error occured with this configuration. <class 'ValueError'>\n"
     ]
    }
   ],
   "source": [
    "#Resultats.run(Xtrain,ytrain,method,param)\n",
    "Resultats.random_start(Xtrain,ytrain,nb_run=10,methods=SVC)\n",
    "f=open('./results/Resultats.pickle', 'wb')\n",
    "pickle.dump(Resultats,f)\n",
    "f.close()"
   ]
  },
  {
   "cell_type": "markdown",
   "metadata": {},
   "source": [
    "## Meilleurs résultats"
   ]
  },
  {
   "cell_type": "code",
   "execution_count": 8,
   "metadata": {},
   "outputs": [
    {
     "name": "stdout",
     "output_type": "stream",
     "text": [
      "5 Results:\n",
      "SVC:\n",
      "Parameters:\n",
      "{'tol': 0.001, 'shrinking': False, 'probability': False, 'kernel': 'linear', 'gamma': 'auto', 'degree': 5, 'coef0': 0.0, 'class_weight': None, 'cache_size': 200, 'C': 0.40000000000000002}\n",
      "Score: 9.481e-01\n",
      "\n",
      "SVC:\n",
      "Parameters:\n",
      "{'tol': 0.001, 'shrinking': False, 'probability': False, 'kernel': 'linear', 'gamma': 'auto', 'degree': 5, 'coef0': 0.0, 'class_weight': None, 'cache_size': 200, 'C': 0.40000000000000002}\n",
      "Score: 9.481e-01\n",
      "\n",
      "SVC:\n",
      "Parameters:\n",
      "{'tol': 0.001, 'shrinking': False, 'probability': False, 'kernel': 'linear', 'gamma': 'auto', 'degree': 5, 'coef0': 0.0, 'class_weight': None, 'cache_size': 200, 'C': 0.40000000000000002}\n",
      "Score: 9.481e-01\n",
      "\n",
      "SVC:\n",
      "Parameters:\n",
      "{'tol': 0.001, 'shrinking': False, 'probability': False, 'kernel': 'linear', 'gamma': 'auto', 'degree': 9, 'coef0': 0.0, 'class_weight': None, 'cache_size': 200, 'C': 0.70000000000000007}\n",
      "Score: 9.473e-01\n",
      "\n",
      "SVC:\n",
      "Parameters:\n",
      "{'tol': 0.001, 'shrinking': False, 'probability': False, 'kernel': 'linear', 'gamma': 'auto', 'degree': 9, 'coef0': 0.0, 'class_weight': None, 'cache_size': 200, 'C': 0.70000000000000007}\n",
      "Score: 9.473e-01\n",
      "\n",
      "\n",
      "\n"
     ]
    }
   ],
   "source": [
    "print(Annex.Results(Resultats.bests(nb=5)))"
   ]
  },
  {
   "cell_type": "code",
   "execution_count": null,
   "metadata": {
    "collapsed": true
   },
   "outputs": [],
   "source": []
  },
  {
   "cell_type": "markdown",
   "metadata": {},
   "source": [
    "## SVM Linéaire"
   ]
  },
  {
   "cell_type": "raw",
   "metadata": {},
   "source": [
    "param=[{\"penalty\":['l2','l1'],\n",
    "        \"loss\":['squared_hinge','hinge'],\n",
    "        \"dual\":[True,False],\n",
    "        \"tol\":[0.0001],\n",
    "        \"C\":np.concatenate([np.linspace(0,1,21),np.linspace(1.1,100,21)]),\n",
    "        \"multi_class\":['ovr','cramer_singer'],\n",
    "        \"fit_intercept\":[True,False],\n",
    "        \"intercept_scaling\":[1],\n",
    "        \"class_weight\":[None]\n",
    "        }] \n",
    "from sklearn.model_selection import ParameterGrid\n",
    "len(ParameterGrid(param))\n",
    "P={'C': 0.1,\n",
    " 'class_weight': None,\n",
    " 'dual': True,\n",
    " 'fit_intercept': True,\n",
    " 'intercept_scaling': 1,\n",
    " 'loss': 'squared_hinge',\n",
    " 'multi_class': 'cramer_singer',\n",
    " 'penalty': 'l2',\n",
    " 'tol': 0.0001} \n",
    "\n",
    "grid=list(ParameterGrid(param))\n",
    "grid[66]"
   ]
  },
  {
   "cell_type": "raw",
   "metadata": {},
   "source": [
    "method = LinearSVC\n",
    "param={\"penalty\":['l2'],\n",
    "        \"loss\":['squared_hinge'],\n",
    "        \"dual\":[True],\n",
    "        \"tol\":[0.0001],\n",
    "        \"C\":[0.1,0.5,0.75,1.5,2,3,10,0.9,1,1.1],\n",
    "        \"multi_class\":['ovr'],\n",
    "        \"fit_intercept\":[True],\n",
    "        \"intercept_scaling\":[1],\n",
    "        \"class_weight\":[None]\n",
    "        } \n",
    "param[\"loss\"]"
   ]
  },
  {
   "cell_type": "markdown",
   "metadata": {},
   "source": [
    " ## SVM Gaussien"
   ]
  },
  {
   "cell_type": "raw",
   "metadata": {},
   "source": [
    "method=SVC\n",
    "param=[{\"C\":[0.5,0.75,1,1.5,2],\n",
    "        \"kernel\":['rbf'],#,'linear','poly', 'sigmoid', 'precomputed'\n",
    "        \"degree\":[3],\n",
    "        \"gamma\":['auto'], \n",
    "        \"coef0\":[0.0], \n",
    "        \"shrinking\":[True], \n",
    "        \"probability\":[False], \n",
    "        \"tol\":[0.001],\n",
    "        \"cache_size\":[200], \n",
    "        \"class_weight\":[None],\n",
    "      }]\n",
    "  "
   ]
  },
  {
   "cell_type": "code",
   "execution_count": null,
   "metadata": {
    "collapsed": true
   },
   "outputs": [],
   "source": []
  }
 ],
 "metadata": {
  "kernelspec": {
   "display_name": "Python 3",
   "language": "python",
   "name": "python3"
  },
  "language_info": {
   "codemirror_mode": {
    "name": "ipython",
    "version": 3
   },
   "file_extension": ".py",
   "mimetype": "text/x-python",
   "name": "python",
   "nbconvert_exporter": "python",
   "pygments_lexer": "ipython3",
   "version": "3.6.2"
  }
 },
 "nbformat": 4,
 "nbformat_minor": 2
}
